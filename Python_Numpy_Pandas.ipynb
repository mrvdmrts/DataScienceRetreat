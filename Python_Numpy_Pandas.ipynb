{
 "cells": [
  {
   "cell_type": "code",
   "execution_count": 1,
   "id": "71040652-2608-481b-b232-ecd14e9b72ca",
   "metadata": {},
   "outputs": [],
   "source": [
    "import pandas as pd"
   ]
  },
  {
   "cell_type": "markdown",
   "id": "6e3fffcc-70c4-45ab-9ee9-be3c8aa36db5",
   "metadata": {},
   "source": [
    "## Title 1"
   ]
  },
  {
   "cell_type": "code",
   "execution_count": null,
   "id": "05196dd4-b823-46ad-a240-2fc227365689",
   "metadata": {},
   "outputs": [],
   "source": []
  }
 ],
 "metadata": {
  "kernelspec": {
   "display_name": "dsr-38",
   "language": "python",
   "name": "dsr-38"
  },
  "language_info": {
   "codemirror_mode": {
    "name": "ipython",
    "version": 3
   },
   "file_extension": ".py",
   "mimetype": "text/x-python",
   "name": "python",
   "nbconvert_exporter": "python",
   "pygments_lexer": "ipython3",
   "version": "3.12.2"
  }
 },
 "nbformat": 4,
 "nbformat_minor": 5
}
